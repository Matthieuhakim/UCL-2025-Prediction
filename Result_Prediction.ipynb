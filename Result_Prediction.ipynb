{
  "nbformat": 4,
  "nbformat_minor": 0,
  "metadata": {
    "colab": {
      "provenance": [],
      "collapsed_sections": [
        "X0GaY0hw5TTE"
      ]
    },
    "kernelspec": {
      "name": "python3",
      "display_name": "Python 3"
    },
    "language_info": {
      "name": "python"
    }
  },
  "cells": [
    {
      "cell_type": "markdown",
      "source": [
        "# Train Model"
      ],
      "metadata": {
        "id": "w1NL-SM7zayi"
      }
    },
    {
      "cell_type": "code",
      "execution_count": 218,
      "metadata": {
        "colab": {
          "base_uri": "https://localhost:8080/"
        },
        "id": "Ng0kqi8rld_E",
        "outputId": "b3071c5e-6536-4b1b-ca24-47e37f142042"
      },
      "outputs": [
        {
          "output_type": "execute_result",
          "data": {
            "text/plain": [
              "Index(['Date', 'Venue', 'Result', 'GF', 'GA', 'xG', 'xGA', 'Poss', 'Sh', 'SoT',\n",
              "       'Dist', 'FK', 'PK', 'PKatt', 'Team ID', 'Opponent ID', 'Points',\n",
              "       'Goal Difference', 'xG Difference', 'Shot Accuracy'],\n",
              "      dtype='object')"
            ]
          },
          "metadata": {},
          "execution_count": 218
        }
      ],
      "source": [
        "import pandas as pd\n",
        "import numpy as np\n",
        "import matplotlib.pyplot as plt\n",
        "import seaborn as sns\n",
        "\n",
        "df = pd.read_csv(\"ucl_match_data.csv\")\n",
        "df.columns"
      ]
    },
    {
      "cell_type": "code",
      "source": [
        "from sklearn.ensemble import RandomForestClassifier\n",
        "from sklearn.model_selection import train_test_split\n",
        "from sklearn.metrics import accuracy_score, classification_report\n",
        "\n",
        "features = ['GF', 'GA', 'xG', 'xGA', 'Sh', 'SoT', 'Goal Difference', 'xG Difference', 'Shot Accuracy', 'Poss', 'FK', 'PK', 'PKatt']\n",
        "\n",
        "target = 'Result'\n",
        "\n",
        "# Split data into training and testing sets\n",
        "X = df[features]\n",
        "y = df[target]\n",
        "X_train, X_test, y_train, y_test = train_test_split(X, y, test_size=0.2, random_state=42)\n",
        "\n",
        "# Initialize and train the classifier\n",
        "model = RandomForestClassifier(n_estimators=100, random_state=42)\n",
        "model.fit(X_train, y_train)\n",
        "\n",
        "# Predict on the test set\n",
        "y_pred = model.predict(X_test)\n",
        "\n",
        "# Evaluate performance\n",
        "accuracy = accuracy_score(y_test, y_pred)\n",
        "print(f\"Accuracy of the model: {accuracy:.4f}\")\n",
        "print(\"\\nClassification Report:\")\n",
        "print(classification_report(y_test, y_pred))\n"
      ],
      "metadata": {
        "colab": {
          "base_uri": "https://localhost:8080/"
        },
        "id": "QaazDiwOr1Ev",
        "outputId": "638a7e08-b469-40f7-bfeb-e4e299706591"
      },
      "execution_count": 219,
      "outputs": [
        {
          "output_type": "stream",
          "name": "stdout",
          "text": [
            "Accuracy of the model: 1.0000\n",
            "\n",
            "Classification Report:\n",
            "              precision    recall  f1-score   support\n",
            "\n",
            "           D       1.00      1.00      1.00        10\n",
            "           L       1.00      1.00      1.00        25\n",
            "           W       1.00      1.00      1.00        23\n",
            "\n",
            "    accuracy                           1.00        58\n",
            "   macro avg       1.00      1.00      1.00        58\n",
            "weighted avg       1.00      1.00      1.00        58\n",
            "\n"
          ]
        }
      ]
    },
    {
      "cell_type": "code",
      "source": [
        "def handle_draw_with_penalties(prediction):\n",
        "    if prediction == 'D':\n",
        "        pen_result = np.random.choice(['W', 'L'])\n",
        "        print(\"After Penalties: \" + pen_result)\n",
        "        return pen_result\n",
        "    else:\n",
        "        return prediction\n",
        "\n",
        "# Aggregate previous matches statistics for each team\n",
        "def aggregate_team_stats(team_id, df):\n",
        "    # Filter matches for the team\n",
        "    team_matches = df[(df['Team ID'] == team_id)]\n",
        "\n",
        "    aggregated_stats = team_matches[features].mean()  # Take the mean of each feature\n",
        "    return aggregated_stats\n",
        "\n",
        "def predict_match_result(team_id_1, team_id_2):\n",
        "    # Get aggregated stats for both teams\n",
        "    team_1_data = aggregate_team_stats(team_id_1, df)\n",
        "    team_2_data = aggregate_team_stats(team_id_2, df)\n",
        "\n",
        "    # Combine features for the prediction (Goal differences, shot accuracy, etc.)\n",
        "    input_features = {\n",
        "        'GF': team_1_data['GF'],  # Goals scored by team 1\n",
        "        'GA': team_2_data['GF'],  # Goals scored by team 2\n",
        "        'xG': team_1_data['xG'],  # Expected goals scored by team 1\n",
        "        'xGA': team_2_data['xG'], # Expected goals scored by team 2\n",
        "        'Sh': team_1_data['Sh'],\n",
        "        'SoT': team_1_data['SoT'],  # Shots on target by team 1\n",
        "        'Goal Difference': team_1_data['GF'] - team_2_data['GF'],  # Difference in goals\n",
        "        'xG Difference': team_1_data['xG'] - team_2_data['xG'],  # Difference in expected goals\n",
        "        'Shot Accuracy': team_1_data['SoT'] / team_1_data['Sh'],  # Shot accuracy of team 1\n",
        "        'Poss': team_1_data['Poss'],  # Possession stats\n",
        "        'FK': team_1_data['FK'],\n",
        "        'PK': team_1_data['PK'],\n",
        "        'PKatt': team_1_data['PKatt']\n",
        "    }\n",
        "\n",
        "    # Convert input features into a DataFrame for prediction\n",
        "    input_df = pd.DataFrame([input_features])\n",
        "\n",
        "    # Predict match outcome\n",
        "    predicted_outcome = model.predict(input_df)[0]\n",
        "\n",
        "    return predicted_outcome"
      ],
      "metadata": {
        "id": "Lms4dFXKtJSe"
      },
      "execution_count": 220,
      "outputs": []
    },
    {
      "cell_type": "code",
      "source": [
        "team_1_id = 1  # Barcelona FC\n",
        "team_2_id = 0  # Liverpool FC\n",
        "\n",
        "match_result = predict_match_result(team_1_id, team_2_id)\n",
        "\n",
        "print(f\"Predicted match result: {match_result}\")\n",
        "\n",
        "match_result = handle_draw_with_penalties(match_result)"
      ],
      "metadata": {
        "colab": {
          "base_uri": "https://localhost:8080/"
        },
        "id": "JCH00zVttxBT",
        "outputId": "be380f18-e221-4272-93b8-9226e62dfba6"
      },
      "execution_count": 221,
      "outputs": [
        {
          "output_type": "stream",
          "name": "stdout",
          "text": [
            "Predicted match result: W\n"
          ]
        }
      ]
    },
    {
      "cell_type": "markdown",
      "source": [
        "# Tournament Prediction"
      ],
      "metadata": {
        "id": "hGMucOMszegO"
      }
    },
    {
      "cell_type": "markdown",
      "source": [
        "### Team IDs"
      ],
      "metadata": {
        "id": "X0GaY0hw5TTE"
      }
    },
    {
      "cell_type": "code",
      "source": [
        "team_map = {\n",
        "    0: 'Liverpool',\n",
        "    1: 'Barcelona',\n",
        "    2: 'Arsenal',\n",
        "    3: 'Internazionale',\n",
        "    4: 'Atletico Madrid',\n",
        "    5: 'Bayer Leverkusen',\n",
        "    6: 'Lille',\n",
        "    7: 'Aston Villa',\n",
        "    8: 'Atalanta',\n",
        "    9: 'Dortmund',\n",
        "    10: 'Real Madrid',\n",
        "    11: 'Bayern Munich',\n",
        "    12: 'Milan',\n",
        "    13: 'PSV Eindhoven',\n",
        "    14: 'Paris Saint-Germain',\n",
        "    15: 'Benfica',\n",
        "    16: 'Monaco',\n",
        "    17: 'Brest',\n",
        "    18: 'Feyenoord',\n",
        "    19: 'Juventus',\n",
        "    20: 'Celtic',\n",
        "    21: 'Manchester City',\n",
        "    22: 'Sporting CP',\n",
        "    23: 'Club Brugge',\n",
        "    24: 'Dinamo Zagreb',\n",
        "    25: 'Stuttgart',\n",
        "    26: 'Shakhtar Donetsk',\n",
        "    27: 'Bologna',\n",
        "    28: 'Red Star Belgrade',\n",
        "    29: 'Sturm Graz',\n",
        "    30: 'Sparta Prague',\n",
        "    31: 'RB Leipzig',\n",
        "    32: 'Girona',\n",
        "    33: 'Red Bull Salzburg',\n",
        "    34: 'Slovan Bratislava',\n",
        "    35: 'Young Boys'\n",
        "}\n",
        "\n",
        "# Function to map team ID to team name\n",
        "def get_team_name(team_id):\n",
        "    return team_map.get(team_id, 'Unknown Team')\n",
        "\n",
        "def get_team_id(team_name):\n",
        "    for team_id, name in team_map.items():\n",
        "        if name == team_name:\n",
        "            return team_id\n",
        "    return None"
      ],
      "metadata": {
        "id": "Ii-ghA5Xzg_h"
      },
      "execution_count": 222,
      "outputs": []
    },
    {
      "cell_type": "markdown",
      "source": [
        "## Simulate Tournament"
      ],
      "metadata": {
        "id": "XVukE6WDAiA8"
      }
    },
    {
      "cell_type": "markdown",
      "source": [
        "### Playoffs"
      ],
      "metadata": {
        "id": "5G8agXSk1VdY"
      }
    },
    {
      "cell_type": "code",
      "source": [
        "playoffs = {\n",
        "    1: (\"Paris Saint-Germain\", \"Brest\"),\n",
        "    2: (\"Atalanta\", \"Club Brugge\"),\n",
        "    3: (\"Real Madrid\", \"Manchester City\"),\n",
        "    4: (\"Juventus\", \"PSV Eindhoven\"),\n",
        "    5: (\"Benfica\", \"Monaco\"),\n",
        "    6: (\"Sporting CP\", \"Dortmund\"),\n",
        "    7: (\"Bayern Munich\", \"Celtic\"),\n",
        "    8: (\"Milan\", \"Feyenoord\"),\n",
        "}\n",
        "\n",
        "# Simulate the playoffs round and store winners\n",
        "winners_playoffs = {}\n",
        "print(\"Simulating Playoffs:\\n\")\n",
        "for match_id, teams in playoffs.items():\n",
        "    print(f\"Playoff {match_id}: {teams[0]} vs {teams[1]}\")\n",
        "\n",
        "    result = predict_match_result(get_team_id(teams[0]), get_team_id(teams[1]))\n",
        "\n",
        "    print_result = \"Winner of Playoff \" + str(match_id) + \": \"\n",
        "    if result == \"D\":\n",
        "        winner = np.random.choice([teams[0], teams[1]])\n",
        "        print_result += str(winner) + \" (after penalties)\"\n",
        "\n",
        "    elif result == \"W\":\n",
        "        winner = teams[0]\n",
        "        print_result += (winner)\n",
        "\n",
        "    elif result == \"L\":\n",
        "        winner = teams[1]\n",
        "        print_result += (winner)\n",
        "\n",
        "    winners_playoffs[match_id] = winner\n",
        "    print(print_result + \"\\n\")\n",
        "\n"
      ],
      "metadata": {
        "colab": {
          "base_uri": "https://localhost:8080/"
        },
        "id": "Axjj38Bn1BaA",
        "outputId": "5466a8cd-ac35-48eb-cab3-8ea0198b7fe8"
      },
      "execution_count": 223,
      "outputs": [
        {
          "output_type": "stream",
          "name": "stdout",
          "text": [
            "Simulating Playoffs:\n",
            "\n",
            "Playoff 1: Paris Saint-Germain vs Brest\n",
            "Winner of Playoff 1: Paris Saint-Germain (after penalties)\n",
            "\n",
            "Playoff 2: Atalanta vs Club Brugge\n",
            "Winner of Playoff 2: Atalanta\n",
            "\n",
            "Playoff 3: Real Madrid vs Manchester City\n",
            "Winner of Playoff 3: Real Madrid (after penalties)\n",
            "\n",
            "Playoff 4: Juventus vs PSV Eindhoven\n",
            "Winner of Playoff 4: PSV Eindhoven\n",
            "\n",
            "Playoff 5: Benfica vs Monaco\n",
            "Winner of Playoff 5: Monaco (after penalties)\n",
            "\n",
            "Playoff 6: Sporting CP vs Dortmund\n",
            "Winner of Playoff 6: Dortmund\n",
            "\n",
            "Playoff 7: Bayern Munich vs Celtic\n",
            "Winner of Playoff 7: Bayern Munich\n",
            "\n",
            "Playoff 8: Milan vs Feyenoord\n",
            "Winner of Playoff 8: Feyenoord\n",
            "\n"
          ]
        }
      ]
    },
    {
      "cell_type": "markdown",
      "source": [
        "### Round of 16"
      ],
      "metadata": {
        "id": "O_DV5X0m5thX"
      }
    },
    {
      "cell_type": "code",
      "source": [
        "round_of_16 = {\n",
        "    1: (\"Liverpool\", winners_playoffs[1]),\n",
        "    2: (\"Barcelona\", winners_playoffs[5]),\n",
        "    3: (\"Arsenal\", winners_playoffs[4]),\n",
        "    4: (\"Internazionale\", winners_playoffs[8]),\n",
        "    5: (\"Atletico Madrid\", winners_playoffs[3]),\n",
        "    6: (\"Bayer Leverkusen\", winners_playoffs[7]),\n",
        "    7: (\"Lille\", winners_playoffs[2]),\n",
        "    8: (\"Aston Villa\", winners_playoffs[6]),\n",
        "}\n",
        "\n",
        "# Simulate the round of 16 and store winners\n",
        "winners_rnd_16 = {}\n",
        "print(\"Simulating Round of 16:\\n\")\n",
        "for match_id, teams in round_of_16.items():\n",
        "    print(f\"R16 {match_id}: {teams[0]} vs {teams[1]}\")\n",
        "\n",
        "    result = predict_match_result(get_team_id(teams[0]), get_team_id(teams[1]))\n",
        "\n",
        "    print_result = \"Winner of R16 \" + str(match_id) + \": \"\n",
        "\n",
        "    if result == \"D\":\n",
        "        winner = np.random.choice([teams[0], teams[1]])\n",
        "        print_result += str(winner) + \" (after penalties)\"\n",
        "\n",
        "    elif result == \"W\":\n",
        "        winner = teams[0]\n",
        "        print_result += (winner)\n",
        "\n",
        "    elif result == \"L\":\n",
        "        winner = teams[1]\n",
        "        print_result += (winner)\n",
        "\n",
        "    winners_rnd_16[match_id] = winner\n",
        "    print(print_result + \"\\n\")\n",
        "\n",
        "\n"
      ],
      "metadata": {
        "colab": {
          "base_uri": "https://localhost:8080/"
        },
        "id": "faXEUb2T5vp3",
        "outputId": "af124a9e-8d10-4669-e36f-710bdfda85f7"
      },
      "execution_count": 224,
      "outputs": [
        {
          "output_type": "stream",
          "name": "stdout",
          "text": [
            "Simulating Round of 16:\n",
            "\n",
            "R16 1: Liverpool vs Paris Saint-Germain\n",
            "Winner of R16 1: Liverpool (after penalties)\n",
            "\n",
            "R16 2: Barcelona vs Monaco\n",
            "Winner of R16 2: Barcelona\n",
            "\n",
            "R16 3: Arsenal vs PSV Eindhoven\n",
            "Winner of R16 3: Arsenal (after penalties)\n",
            "\n",
            "R16 4: Internazionale vs Feyenoord\n",
            "Winner of R16 4: Feyenoord\n",
            "\n",
            "R16 5: Atletico Madrid vs Real Madrid\n",
            "Winner of R16 5: Atletico Madrid (after penalties)\n",
            "\n",
            "R16 6: Bayer Leverkusen vs Bayern Munich\n",
            "Winner of R16 6: Bayern Munich\n",
            "\n",
            "R16 7: Lille vs Atalanta\n",
            "Winner of R16 7: Lille (after penalties)\n",
            "\n",
            "R16 8: Aston Villa vs Dortmund\n",
            "Winner of R16 8: Dortmund\n",
            "\n"
          ]
        }
      ]
    },
    {
      "cell_type": "markdown",
      "source": [
        "### Quarter Finals"
      ],
      "metadata": {
        "id": "iHQULhKU5wKn"
      }
    },
    {
      "cell_type": "code",
      "source": [
        "quarter_finals = {\n",
        "    1: (winners_rnd_16[1], winners_rnd_16[7]),\n",
        "    2: (winners_rnd_16[2], winners_rnd_16[8]),\n",
        "    3: (winners_rnd_16[5], winners_rnd_16[3]),\n",
        "    4: (winners_rnd_16[6], winners_rnd_16[4]),\n",
        "}\n",
        "\n",
        "# Simulate the quarter finals and store winners\n",
        "winner_quarter = {}\n",
        "print(\"Simulating Quarter Finals:\\n\")\n",
        "for match_id, teams in quarter_finals.items():\n",
        "    print(f\"QF {match_id}: {teams[0]} vs {teams[1]}\")\n",
        "\n",
        "    result = predict_match_result(get_team_id(teams[0]), get_team_id(teams[1]))\n",
        "\n",
        "    print_result = \"Winner of QF \" + str(match_id) + \": \"\n",
        "\n",
        "    if result == \"D\":\n",
        "        winner = np.random.choice([teams[0], teams[1]])\n",
        "        print_result += str(winner) + \" (after penalties)\"\n",
        "\n",
        "    elif result == \"W\":\n",
        "        winner = teams[0]\n",
        "        print_result += (winner)\n",
        "\n",
        "    elif result == \"L\":\n",
        "        winner = teams[1]\n",
        "        print_result += (winner)\n",
        "\n",
        "    winner_quarter[match_id] = winner\n",
        "    print(print_result + \"\\n\")\n",
        "\n"
      ],
      "metadata": {
        "colab": {
          "base_uri": "https://localhost:8080/"
        },
        "id": "Pg1AQgXG5x_m",
        "outputId": "8de53124-23f3-4c2f-b318-7c48acfdd1f5"
      },
      "execution_count": 225,
      "outputs": [
        {
          "output_type": "stream",
          "name": "stdout",
          "text": [
            "Simulating Quarter Finals:\n",
            "\n",
            "QF 1: Liverpool vs Lille\n",
            "Winner of QF 1: Liverpool (after penalties)\n",
            "\n",
            "QF 2: Barcelona vs Dortmund\n",
            "Winner of QF 2: Barcelona\n",
            "\n",
            "QF 3: Atletico Madrid vs Arsenal\n",
            "Winner of QF 3: Arsenal (after penalties)\n",
            "\n",
            "QF 4: Bayern Munich vs Feyenoord\n",
            "Winner of QF 4: Bayern Munich (after penalties)\n",
            "\n"
          ]
        }
      ]
    },
    {
      "cell_type": "markdown",
      "source": [
        "### Semi Final"
      ],
      "metadata": {
        "id": "bEEJqrqA5yUl"
      }
    },
    {
      "cell_type": "code",
      "source": [
        "semi_finals = {\n",
        "    1: (winner_quarter[1], winner_quarter[3]),\n",
        "    2: (winner_quarter[2], winner_quarter[4]),\n",
        "}\n",
        "\n",
        "# Simulate the semi finals and store winners\n",
        "winner_semis = {}\n",
        "print(\"Simulating Semi Finals:\\n\")\n",
        "for match_id, teams in semi_finals.items():\n",
        "    print(f\"SF {match_id}: {teams[0]} vs {teams[1]}\")\n",
        "\n",
        "    result = predict_match_result(get_team_id(teams[0]), get_team_id(teams[1]))\n",
        "\n",
        "    print_result = \"Winner of SF \" + str(match_id) + \": \"\n",
        "\n",
        "    if result == \"D\":\n",
        "        winner = np.random.choice([teams[0], teams[1]])\n",
        "        print_result += str(winner) + \" (after penalties)\"\n",
        "\n",
        "    elif result == \"W\":\n",
        "        winner = teams[0]\n",
        "        print_result += (winner)\n",
        "\n",
        "    elif result == \"L\":\n",
        "        winner = teams[1]\n",
        "        print_result += (winner)\n",
        "\n",
        "    winner_semis[match_id] = winner\n",
        "    print(print_result + \"\\n\")\n",
        "\n"
      ],
      "metadata": {
        "colab": {
          "base_uri": "https://localhost:8080/"
        },
        "id": "z7YiwaCC5z2U",
        "outputId": "fff207b8-eee7-4eef-a8b2-95b2f01f583d"
      },
      "execution_count": 226,
      "outputs": [
        {
          "output_type": "stream",
          "name": "stdout",
          "text": [
            "Simulating Semi Finals:\n",
            "\n",
            "SF 1: Liverpool vs Arsenal\n",
            "Winner of SF 1: Liverpool (after penalties)\n",
            "\n",
            "SF 2: Barcelona vs Bayern Munich\n",
            "Winner of SF 2: Barcelona\n",
            "\n"
          ]
        }
      ]
    },
    {
      "cell_type": "markdown",
      "source": [
        "### Final"
      ],
      "metadata": {
        "id": "wAv9GeJN50dP"
      }
    },
    {
      "cell_type": "code",
      "source": [
        "final = {\n",
        "    1: (winner_semis[1], winner_semis[2])\n",
        "}\n",
        "\n",
        "# Simulate the final\n",
        "print(\"Simulating UCL Final:\\n\")\n",
        "for match_id, teams in final.items():\n",
        "    print(f\"Final: {teams[0]} vs {teams[1]}\")\n",
        "\n",
        "    result = predict_match_result(get_team_id(teams[0]), get_team_id(teams[1]))\n",
        "\n",
        "    print_result = \"Champions League Winner: \"\n",
        "\n",
        "    if result == \"D\":\n",
        "        winner = np.random.choice([teams[0], teams[1]])\n",
        "        print_result += str(winner) + \" (after penalties)\"\n",
        "\n",
        "    elif result == \"W\":\n",
        "        winner = teams[0]\n",
        "        print_result += (winner)\n",
        "\n",
        "    elif result == \"L\":\n",
        "        winner = teams[1]\n",
        "        print_result += (winner)\n",
        "    final_winner = winner\n",
        "    print(print_result + \"\\n\")\n",
        "    print(\"Congratulations to \" + winner + \"!\")"
      ],
      "metadata": {
        "colab": {
          "base_uri": "https://localhost:8080/"
        },
        "id": "RvnsIQYV52KO",
        "outputId": "b52751c8-2feb-4455-e6ba-d9bb83388ba3"
      },
      "execution_count": 227,
      "outputs": [
        {
          "output_type": "stream",
          "name": "stdout",
          "text": [
            "Simulating UCL Final:\n",
            "\n",
            "Final: Liverpool vs Barcelona\n",
            "Champions League Winner: Barcelona\n",
            "\n",
            "Congratulations to Barcelona!\n"
          ]
        }
      ]
    },
    {
      "cell_type": "markdown",
      "source": [
        "## Display Result"
      ],
      "metadata": {
        "id": "QsRXZWsdAewH"
      }
    },
    {
      "cell_type": "code",
      "source": [
        "def print_bracket():\n",
        "    print(\"Champions League Tournament:\\n\")\n",
        "\n",
        "    # Display Playoffs\n",
        "    print(\"Playoffs:\")\n",
        "    for i, match in playoffs.items():\n",
        "        print(f\"Playoff {i}: {match[0]} vs {match[1]} -> Winner: {winners_playoffs[i]}\")\n",
        "\n",
        "    # Display Round of 16\n",
        "    print(\"\\nRound of 16:\")\n",
        "    for i, match in round_of_16.items():\n",
        "        print(f\"Round {i}: {match[0]} vs {match[1]} -> Winner: {winners_rnd_16[i]}\")\n",
        "\n",
        "    # Display Quarterfinals\n",
        "    print(\"\\nQuarterfinals:\")\n",
        "    for i, match in quarter_finals.items():\n",
        "        print(f\"Quarterfinal {i}: {match[0]} vs {match[1]} -> Winner: {winner_quarter[i]}\")\n",
        "\n",
        "    # Display Semifinals\n",
        "    print(\"\\nSemifinals:\")\n",
        "    for i, match in semi_finals.items():\n",
        "        print(f\"Semifinal {i}: {match[0]} vs {match[1]} -> Winner: {winner_semis[i]}\")\n",
        "\n",
        "    # Display Final\n",
        "    print(\"\\nFinal:\")\n",
        "    match = final[1]\n",
        "    print(f\"Final: {match[0]} vs {match[1]} -> Winner: {final_winner}\")\n",
        "    print(\"\\nTournament Complete!\")\n",
        "\n",
        "# Run the printing function\n",
        "print_bracket()\n"
      ],
      "metadata": {
        "colab": {
          "base_uri": "https://localhost:8080/"
        },
        "id": "qqlp_DveAJUb",
        "outputId": "a700ed0a-5f7a-47eb-9af7-51eef0500e66"
      },
      "execution_count": 228,
      "outputs": [
        {
          "output_type": "stream",
          "name": "stdout",
          "text": [
            "Champions League Tournament:\n",
            "\n",
            "Playoffs:\n",
            "Playoff 1: Paris Saint-Germain vs Brest -> Winner: Paris Saint-Germain\n",
            "Playoff 2: Atalanta vs Club Brugge -> Winner: Atalanta\n",
            "Playoff 3: Real Madrid vs Manchester City -> Winner: Real Madrid\n",
            "Playoff 4: Juventus vs PSV Eindhoven -> Winner: PSV Eindhoven\n",
            "Playoff 5: Benfica vs Monaco -> Winner: Monaco\n",
            "Playoff 6: Sporting CP vs Dortmund -> Winner: Dortmund\n",
            "Playoff 7: Bayern Munich vs Celtic -> Winner: Bayern Munich\n",
            "Playoff 8: Milan vs Feyenoord -> Winner: Feyenoord\n",
            "\n",
            "Round of 16:\n",
            "Round 1: Liverpool vs Paris Saint-Germain -> Winner: Liverpool\n",
            "Round 2: Barcelona vs Monaco -> Winner: Barcelona\n",
            "Round 3: Arsenal vs PSV Eindhoven -> Winner: Arsenal\n",
            "Round 4: Internazionale vs Feyenoord -> Winner: Feyenoord\n",
            "Round 5: Atletico Madrid vs Real Madrid -> Winner: Atletico Madrid\n",
            "Round 6: Bayer Leverkusen vs Bayern Munich -> Winner: Bayern Munich\n",
            "Round 7: Lille vs Atalanta -> Winner: Lille\n",
            "Round 8: Aston Villa vs Dortmund -> Winner: Dortmund\n",
            "\n",
            "Quarterfinals:\n",
            "Quarterfinal 1: Liverpool vs Lille -> Winner: Liverpool\n",
            "Quarterfinal 2: Barcelona vs Dortmund -> Winner: Barcelona\n",
            "Quarterfinal 3: Atletico Madrid vs Arsenal -> Winner: Arsenal\n",
            "Quarterfinal 4: Bayern Munich vs Feyenoord -> Winner: Bayern Munich\n",
            "\n",
            "Semifinals:\n",
            "Semifinal 1: Liverpool vs Arsenal -> Winner: Liverpool\n",
            "Semifinal 2: Barcelona vs Bayern Munich -> Winner: Barcelona\n",
            "\n",
            "Final:\n",
            "Final: Liverpool vs Barcelona -> Winner: Barcelona\n",
            "\n",
            "Tournament Complete!\n"
          ]
        }
      ]
    }
  ]
}